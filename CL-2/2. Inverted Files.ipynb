{
 "cells": [
  {
   "cell_type": "code",
   "execution_count": 1,
   "id": "245edc75-b985-49e4-9f1b-d40fe493c74f",
   "metadata": {},
   "outputs": [],
   "source": [
    "import string"
   ]
  },
  {
   "cell_type": "code",
   "execution_count": 2,
   "id": "97ba46f6-8fc0-44a4-9f81-0e2c86174def",
   "metadata": {},
   "outputs": [],
   "source": [
    "documents = [\n",
    "    \"This is the first document\",\n",
    "    \"This document is the second document\",\n",
    "    \"And this is the third one\",\n",
    "    \"Is this the first document\"\n",
    "]"
   ]
  },
  {
   "cell_type": "code",
   "execution_count": 3,
   "id": "c2a2996c-0a6f-4fd6-9be6-304cbaf2d8ed",
   "metadata": {},
   "outputs": [],
   "source": [
    "def preprocess(text):\n",
    "    text = text.lower()\n",
    "    text = text.translate(str.maketrans('', '', string.punctuation))\n",
    "    return text"
   ]
  },
  {
   "cell_type": "code",
   "execution_count": 4,
   "id": "9c5915a3-38d7-45f8-8ea7-71490463b96b",
   "metadata": {},
   "outputs": [],
   "source": [
    "def create_inverted_index(docs):\n",
    "    inverted_index = {}\n",
    "    for doc_id, doc in enumerate(docs):\n",
    "        words = preprocess(doc).split()\n",
    "        for word in set(words):\n",
    "            if word not in inverted_index:\n",
    "                inverted_index[word] = []\n",
    "            inverted_index[word].append(doc_id)\n",
    "    return inverted_index"
   ]
  },
  {
   "cell_type": "code",
   "execution_count": 6,
   "id": "0a87727f-990b-4e0c-ba66-8546a54d3bc3",
   "metadata": {},
   "outputs": [],
   "source": [
    "def retrieve_documents(query, inverted_index):\n",
    "    query = preprocess(query).split()\n",
    "    doc_ids = set()\n",
    "    for word in query:\n",
    "        if word in inverted_index:\n",
    "            doc_ids.update(inverted_index[word])\n",
    "    return sorted(doc_ids)"
   ]
  },
  {
   "cell_type": "code",
   "execution_count": 7,
   "id": "a032dfe4-512c-422c-b136-cc85097375dc",
   "metadata": {},
   "outputs": [],
   "source": [
    "inverted_index = create_inverted_index(documents)"
   ]
  },
  {
   "cell_type": "code",
   "execution_count": 13,
   "id": "5af85a7f-f74a-49af-8672-940f949ed0ee",
   "metadata": {},
   "outputs": [],
   "source": [
    "query = \"first document\"\n",
    "retrieved_docs = retrieve_documents(query, inverted_index)"
   ]
  },
  {
   "cell_type": "code",
   "execution_count": 14,
   "id": "638f4ed1-e060-4d25-aa7d-d71223d25a7a",
   "metadata": {},
   "outputs": [
    {
     "name": "stdout",
     "output_type": "stream",
     "text": [
      "Query: 'first document'\n",
      "Retrieved documents: [0, 1, 3]\n"
     ]
    }
   ],
   "source": [
    "print(f\"Query: '{query}'\")\n",
    "print(\"Retrieved documents:\", retrieved_docs)"
   ]
  },
  {
   "cell_type": "code",
   "execution_count": 15,
   "id": "98354295-182c-4068-92e6-9078cf48166e",
   "metadata": {},
   "outputs": [
    {
     "name": "stdout",
     "output_type": "stream",
     "text": [
      "Document 0: This is the first document\n",
      "Document 1: This document is the second document\n",
      "Document 3: Is this the first document\n"
     ]
    }
   ],
   "source": [
    "for doc_id in retrieved_docs:\n",
    "    print(f\"Document {doc_id}: {documents[doc_id]}\")"
   ]
  },
  {
   "cell_type": "code",
   "execution_count": null,
   "id": "ed55a8cf-f896-42bb-924f-ce4d508218d9",
   "metadata": {},
   "outputs": [],
   "source": []
  }
 ],
 "metadata": {
  "kernelspec": {
   "display_name": "Python 3 (ipykernel)",
   "language": "python",
   "name": "python3"
  },
  "language_info": {
   "codemirror_mode": {
    "name": "ipython",
    "version": 3
   },
   "file_extension": ".py",
   "mimetype": "text/x-python",
   "name": "python",
   "nbconvert_exporter": "python",
   "pygments_lexer": "ipython3",
   "version": "3.12.0"
  }
 },
 "nbformat": 4,
 "nbformat_minor": 5
}
