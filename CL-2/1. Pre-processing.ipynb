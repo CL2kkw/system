{
 "cells": [
  {
   "cell_type": "code",
   "execution_count": 2,
   "id": "d3f1f8a8-c5b5-4795-ba2e-60649968ce1d",
   "metadata": {},
   "outputs": [],
   "source": [
    "#pip install nltk"
   ]
  },
  {
   "cell_type": "code",
   "execution_count": 3,
   "id": "ef2bc443-22db-4883-95a3-5e370919e920",
   "metadata": {},
   "outputs": [],
   "source": [
    "import nltk\n",
    "from nltk.corpus import stopwords\n",
    "from nltk.stem import PorterStemmer\n",
    "from nltk.tokenize import word_tokenize\n",
    "import string"
   ]
  },
  {
   "cell_type": "code",
   "execution_count": 4,
   "id": "cd6a4e22-e87f-406f-be63-d1e25cc341ef",
   "metadata": {},
   "outputs": [
    {
     "name": "stderr",
     "output_type": "stream",
     "text": [
      "[nltk_data] Downloading package punkt to\n",
      "[nltk_data]     C:\\Users\\Ketan\\AppData\\Roaming\\nltk_data...\n",
      "[nltk_data]   Package punkt is already up-to-date!\n",
      "[nltk_data] Downloading package stopwords to\n",
      "[nltk_data]     C:\\Users\\Ketan\\AppData\\Roaming\\nltk_data...\n",
      "[nltk_data]   Package stopwords is already up-to-date!\n"
     ]
    },
    {
     "data": {
      "text/plain": [
       "True"
      ]
     },
     "execution_count": 4,
     "metadata": {},
     "output_type": "execute_result"
    }
   ],
   "source": [
    "nltk.download('punkt')\n",
    "nltk.download('stopwords')"
   ]
  },
  {
   "cell_type": "code",
   "execution_count": 5,
   "id": "a800b8e0-1db9-45c6-94b6-fe8cdd284b03",
   "metadata": {},
   "outputs": [],
   "source": [
    "stop_words = set(stopwords.words('english'))\n",
    "stemmer = PorterStemmer()"
   ]
  },
  {
   "cell_type": "code",
   "execution_count": 6,
   "id": "61e913a5-1dad-4b9b-8d3f-dea359afccda",
   "metadata": {},
   "outputs": [],
   "source": [
    "def preprocess(text):\n",
    "    # Convert to lowercase\n",
    "    text = text.lower()\n",
    "    \n",
    "    # Remove punctuation\n",
    "    text = text.translate(str.maketrans('', '', string.punctuation))\n",
    "    \n",
    "    # Tokenize the text\n",
    "    words = word_tokenize(text)\n",
    "    \n",
    "    # Remove stop words and apply stemming\n",
    "    processed_words = []\n",
    "    for word in words:\n",
    "        if word not in stop_words:  # Remove stop words\n",
    "            stemmed_word = stemmer.stem(word)  # Apply stemming\n",
    "            processed_words.append(stemmed_word)\n",
    "    \n",
    "    return \" \".join(processed_words)"
   ]
  },
  {
   "cell_type": "code",
   "execution_count": 7,
   "id": "4321cc43-e0dc-4ca5-96fa-5d2c776719ab",
   "metadata": {},
   "outputs": [],
   "source": [
    "document = \"\"\"Natural language processing (NLP) is a field of artificial intelligence that focuses on the interaction between computers and humans through \n",
    "natural language. The ultimate goal of NLP is to enable computers to understand, interpret, and generate human language.\"\"\""
   ]
  },
  {
   "cell_type": "code",
   "execution_count": 8,
   "id": "24a610ab-1dc7-4662-a6d8-8d371c9221da",
   "metadata": {},
   "outputs": [],
   "source": [
    "processed_document = preprocess(document)"
   ]
  },
  {
   "cell_type": "code",
   "execution_count": 9,
   "id": "7c4810de-c5d4-443f-949e-19b3223949fa",
   "metadata": {},
   "outputs": [
    {
     "name": "stdout",
     "output_type": "stream",
     "text": [
      "Original Document:\n",
      "Natural language processing (NLP) is a field of artificial intelligence that focuses on the interaction between computers and humans through \n",
      "natural language. The ultimate goal of NLP is to enable computers to understand, interpret, and generate human language.\n",
      "\n",
      "Processed Document:\n",
      "natur languag process nlp field artifici intellig focus interact comput human natur languag ultim goal nlp enabl comput understand interpret gener human languag\n"
     ]
    }
   ],
   "source": [
    "print(\"Original Document:\")\n",
    "print(document)\n",
    "print(\"\\nProcessed Document:\")\n",
    "print(processed_document)"
   ]
  },
  {
   "cell_type": "code",
   "execution_count": null,
   "id": "ffbc7cfb-8315-4308-8464-cbb9cdd960d1",
   "metadata": {},
   "outputs": [],
   "source": []
  }
 ],
 "metadata": {
  "kernelspec": {
   "display_name": "Python 3 (ipykernel)",
   "language": "python",
   "name": "python3"
  },
  "language_info": {
   "codemirror_mode": {
    "name": "ipython",
    "version": 3
   },
   "file_extension": ".py",
   "mimetype": "text/x-python",
   "name": "python",
   "nbconvert_exporter": "python",
   "pygments_lexer": "ipython3",
   "version": "3.12.0"
  }
 },
 "nbformat": 4,
 "nbformat_minor": 5
}
